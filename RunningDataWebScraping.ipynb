{
  "nbformat": 4,
  "nbformat_minor": 0,
  "metadata": {
    "colab": {
      "name": "RunningDataWebScraping.ipynb",
      "provenance": [],
      "collapsed_sections": [],
      "authorship_tag": "ABX9TyNH6vCVGuHf/86lo9poQPJS",
      "include_colab_link": true
    },
    "kernelspec": {
      "name": "python3",
      "display_name": "Python 3"
    }
  },
  "cells": [
    {
      "cell_type": "markdown",
      "metadata": {
        "id": "view-in-github",
        "colab_type": "text"
      },
      "source": [
        "<a href=\"https://colab.research.google.com/github/JamesExeter/PythonRunningWebScraping/blob/main/RunningDataWebScraping.ipynb\" target=\"_parent\"><img src=\"https://colab.research.google.com/assets/colab-badge.svg\" alt=\"Open In Colab\"/></a>"
      ]
    },
    {
      "cell_type": "code",
      "metadata": {
        "id": "qHgQ5D3SsZY1"
      },
      "source": [
        "import pandas as pd\r\n",
        "import numpy as np\r\n",
        "import matplotlib.pyplot as plt\r\n",
        "import seaborn as sns\r\n",
        "%matplotlib inline\r\n",
        "\r\n",
        "from urllib.request import urlopen\r\n",
        "from bs4 import BeautifulSoup\r\n"
      ],
      "execution_count": 28,
      "outputs": []
    },
    {
      "cell_type": "code",
      "metadata": {
        "colab": {
          "base_uri": "https://localhost:8080/"
        },
        "id": "iBEykY9VsntN",
        "outputId": "e8e5af56-6e78-4652-986b-9c6dc179bff0"
      },
      "source": [
        "url = \"http://www.hubertiming.com/results/2017GPTR10K\"\r\n",
        "html = urlopen(url)\r\n",
        "\r\n",
        "soup = BeautifulSoup(html, 'lxml')\r\n",
        "type(soup)\r\n",
        "\r\n",
        "title = soup.title\r\n",
        "print(title)\r\n",
        "\r\n",
        "text = soup.get_text().strip()\r\n",
        "#print(text)\r\n",
        "\r\n",
        "all_links = soup.find_all('a')\r\n",
        "for link in all_links:\r\n",
        "  print(link.get(\"href\"))\r\n"
      ],
      "execution_count": 29,
      "outputs": [
        {
          "output_type": "stream",
          "text": [
            "<title>Race results for the 2017 Intel Great Place to Run \\ Urban Clash Games!</title>\n",
            "mailto:timing@hubertiming.com\n",
            "https://www.hubertiming.com/\n",
            "/results/2017GPTR\n",
            "/results/team/2017GPTR\n",
            "/results/team/2017GPTR10K\n",
            "/results/summary/2017GPTR10K\n",
            "None\n",
            "#tabs-1\n",
            "https://www.hubertiming.com/\n",
            "https://facebook.com/hubertiming/\n",
            "None\n"
          ],
          "name": "stdout"
        }
      ]
    },
    {
      "cell_type": "code",
      "metadata": {
        "colab": {
          "base_uri": "https://localhost:8080/"
        },
        "id": "23mYZnJxxLU7",
        "outputId": "7b4ce5a5-54b1-432b-b5df-3ae7a6fb813d"
      },
      "source": [
        "rows = soup.find_all('tr')\r\n",
        "print(rows[:10])"
      ],
      "execution_count": 30,
      "outputs": [
        {
          "output_type": "stream",
          "text": [
            "[<tr colspan=\"2\">\n",
            "<b>10K:</b>\n",
            "</tr>, <tr>\n",
            "<td>Finishers:</td>\n",
            "<td>577</td>\n",
            "</tr>, <tr>\n",
            "<td>Male:</td>\n",
            "<td>414</td>\n",
            "</tr>, <tr>\n",
            "<td>Female:</td>\n",
            "<td>163</td>\n",
            "</tr>, <tr class=\"header\">\n",
            "<th>Place</th>\n",
            "<th>Bib</th>\n",
            "<th>Name</th>\n",
            "<th>Gender</th>\n",
            "<th>City</th>\n",
            "<th>State</th>\n",
            "<th>Chip Time</th>\n",
            "<th>Chip Pace</th>\n",
            "<th>Gun Time</th>\n",
            "<th>Team</th>\n",
            "</tr>, <tr data-bib=\"814\">\n",
            "<td>1</td>\n",
            "<td>814</td>\n",
            "<td>\r\n",
            "\r\n",
            "                    JARED WILSON\r\n",
            "\r\n",
            "                </td>\n",
            "<td>M</td>\n",
            "<td>TIGARD</td>\n",
            "<td>OR</td>\n",
            "<td>36:21</td>\n",
            "<td>5:51</td>\n",
            "<td>36:24</td>\n",
            "<td></td>\n",
            "</tr>, <tr data-bib=\"573\">\n",
            "<td>2</td>\n",
            "<td>573</td>\n",
            "<td>\r\n",
            "\r\n",
            "                    NATHAN A SUSTERSIC\r\n",
            "\r\n",
            "                </td>\n",
            "<td>M</td>\n",
            "<td>PORTLAND</td>\n",
            "<td>OR</td>\n",
            "<td>36:42</td>\n",
            "<td>5:55</td>\n",
            "<td>36:45</td>\n",
            "<td>\n",
            "<img class=\"lazy teamThumbs\" data-src=\"/teamLogoThumbnail/logo?teamName=INTEL%20TEAM%20F&amp;raceId=1251&amp;state=OR\"/>\r\n",
            "                            INTEL TEAM F\r\n",
            "                        </td>\n",
            "</tr>, <tr data-bib=\"687\">\n",
            "<td>3</td>\n",
            "<td>687</td>\n",
            "<td>\r\n",
            "\r\n",
            "                    FRANCISCO MAYA\r\n",
            "\r\n",
            "                </td>\n",
            "<td>M</td>\n",
            "<td>PORTLAND</td>\n",
            "<td>OR</td>\n",
            "<td>37:44</td>\n",
            "<td>6:05</td>\n",
            "<td>37:48</td>\n",
            "<td></td>\n",
            "</tr>, <tr data-bib=\"623\">\n",
            "<td>4</td>\n",
            "<td>623</td>\n",
            "<td>\r\n",
            "\r\n",
            "                    PAUL MORROW\r\n",
            "\r\n",
            "                </td>\n",
            "<td>M</td>\n",
            "<td>BEAVERTON</td>\n",
            "<td>OR</td>\n",
            "<td>38:34</td>\n",
            "<td>6:13</td>\n",
            "<td>38:37</td>\n",
            "<td></td>\n",
            "</tr>, <tr data-bib=\"569\">\n",
            "<td>5</td>\n",
            "<td>569</td>\n",
            "<td>\r\n",
            "\r\n",
            "                    DEREK G OSBORNE\r\n",
            "\r\n",
            "                </td>\n",
            "<td>M</td>\n",
            "<td>HILLSBORO</td>\n",
            "<td>OR</td>\n",
            "<td>39:21</td>\n",
            "<td>6:20</td>\n",
            "<td>39:24</td>\n",
            "<td>\n",
            "<img class=\"lazy teamThumbs\" data-src=\"/teamLogoThumbnail/logo?teamName=INTEL%20TEAM%20F&amp;raceId=1251&amp;state=OR\"/>\r\n",
            "                            INTEL TEAM F\r\n",
            "                        </td>\n",
            "</tr>]\n"
          ],
          "name": "stdout"
        }
      ]
    },
    {
      "cell_type": "code",
      "metadata": {
        "colab": {
          "base_uri": "https://localhost:8080/"
        },
        "id": "kLjl9K-Tv6WF",
        "outputId": "42eefd7b-a4e4-486f-bb23-f0951c3ac1b0"
      },
      "source": [
        "for row in rows:\r\n",
        "  row_td = row.find_all('td')\r\n",
        "\r\n",
        "print(row_td)\r\n",
        "type(row_td)"
      ],
      "execution_count": 31,
      "outputs": [
        {
          "output_type": "stream",
          "text": [
            "[<td>577</td>, <td>443</td>, <td>\r\n",
            "\r\n",
            "                    LIBBY B MITCHELL\r\n",
            "\r\n",
            "                </td>, <td>F</td>, <td>HILLSBORO</td>, <td>OR</td>, <td>1:41:18</td>, <td>16:20</td>, <td>1:42:10</td>, <td></td>]\n"
          ],
          "name": "stdout"
        },
        {
          "output_type": "execute_result",
          "data": {
            "text/plain": [
              "bs4.element.ResultSet"
            ]
          },
          "metadata": {
            "tags": []
          },
          "execution_count": 31
        }
      ]
    },
    {
      "cell_type": "code",
      "metadata": {
        "colab": {
          "base_uri": "https://localhost:8080/"
        },
        "id": "9E4XN3PdwjcO",
        "outputId": "26d090d9-33e9-4ca2-d24b-e4dea9493af9"
      },
      "source": [
        "str_cells = str(row_td)\r\n",
        "cleantext = BeautifulSoup(str_cells, \"lxml\").get_text().strip()\r\n",
        "print(cleantext)"
      ],
      "execution_count": 32,
      "outputs": [
        {
          "output_type": "stream",
          "text": [
            "[577, 443, \r\n",
            "\r\n",
            "                    LIBBY B MITCHELL\r\n",
            "\r\n",
            "                , F, HILLSBORO, OR, 1:41:18, 16:20, 1:42:10, ]\n"
          ],
          "name": "stdout"
        }
      ]
    },
    {
      "cell_type": "code",
      "metadata": {
        "colab": {
          "base_uri": "https://localhost:8080/"
        },
        "id": "fngowhI3x2Ej",
        "outputId": "2f40e560-9073-4833-b734-cb4666ff6868"
      },
      "source": [
        "import re\r\n",
        "\r\n",
        "list_rows = []\r\n",
        "for row in rows:\r\n",
        "  cells = row.find_all('td')\r\n",
        "  str_cells = str(cells)\r\n",
        "  clean = re.compile('<.*?>')\r\n",
        "  clean2 = (re.sub(clean, '', str_cells))\r\n",
        "  clean3 = (re.sub(r'[\\r\\n]', '', clean2))\r\n",
        "  list_rows.append(clean3)\r\n",
        "\r\n",
        "print(clean3)\r\n",
        "type(clean3)"
      ],
      "execution_count": 33,
      "outputs": [
        {
          "output_type": "stream",
          "text": [
            "[577, 443,                     LIBBY B MITCHELL                , F, HILLSBORO, OR, 1:41:18, 16:20, 1:42:10, ]\n"
          ],
          "name": "stdout"
        },
        {
          "output_type": "execute_result",
          "data": {
            "text/plain": [
              "str"
            ]
          },
          "metadata": {
            "tags": []
          },
          "execution_count": 33
        }
      ]
    },
    {
      "cell_type": "code",
      "metadata": {
        "colab": {
          "base_uri": "https://localhost:8080/",
          "height": 343
        },
        "id": "XoUZVia8ygpk",
        "outputId": "9fb7484a-e2c4-4e68-aa42-6e5f1ea84750"
      },
      "source": [
        "df = pd.DataFrame(list_rows)\r\n",
        "df.head(10)"
      ],
      "execution_count": 34,
      "outputs": [
        {
          "output_type": "execute_result",
          "data": {
            "text/html": [
              "<div>\n",
              "<style scoped>\n",
              "    .dataframe tbody tr th:only-of-type {\n",
              "        vertical-align: middle;\n",
              "    }\n",
              "\n",
              "    .dataframe tbody tr th {\n",
              "        vertical-align: top;\n",
              "    }\n",
              "\n",
              "    .dataframe thead th {\n",
              "        text-align: right;\n",
              "    }\n",
              "</style>\n",
              "<table border=\"1\" class=\"dataframe\">\n",
              "  <thead>\n",
              "    <tr style=\"text-align: right;\">\n",
              "      <th></th>\n",
              "      <th>0</th>\n",
              "    </tr>\n",
              "  </thead>\n",
              "  <tbody>\n",
              "    <tr>\n",
              "      <th>0</th>\n",
              "      <td>[]</td>\n",
              "    </tr>\n",
              "    <tr>\n",
              "      <th>1</th>\n",
              "      <td>[Finishers:, 577]</td>\n",
              "    </tr>\n",
              "    <tr>\n",
              "      <th>2</th>\n",
              "      <td>[Male:, 414]</td>\n",
              "    </tr>\n",
              "    <tr>\n",
              "      <th>3</th>\n",
              "      <td>[Female:, 163]</td>\n",
              "    </tr>\n",
              "    <tr>\n",
              "      <th>4</th>\n",
              "      <td>[]</td>\n",
              "    </tr>\n",
              "    <tr>\n",
              "      <th>5</th>\n",
              "      <td>[1, 814,                     JARED WILSON     ...</td>\n",
              "    </tr>\n",
              "    <tr>\n",
              "      <th>6</th>\n",
              "      <td>[2, 573,                     NATHAN A SUSTERSI...</td>\n",
              "    </tr>\n",
              "    <tr>\n",
              "      <th>7</th>\n",
              "      <td>[3, 687,                     FRANCISCO MAYA   ...</td>\n",
              "    </tr>\n",
              "    <tr>\n",
              "      <th>8</th>\n",
              "      <td>[4, 623,                     PAUL MORROW      ...</td>\n",
              "    </tr>\n",
              "    <tr>\n",
              "      <th>9</th>\n",
              "      <td>[5, 569,                     DEREK G OSBORNE  ...</td>\n",
              "    </tr>\n",
              "  </tbody>\n",
              "</table>\n",
              "</div>"
            ],
            "text/plain": [
              "                                                   0\n",
              "0                                                 []\n",
              "1                                  [Finishers:, 577]\n",
              "2                                       [Male:, 414]\n",
              "3                                     [Female:, 163]\n",
              "4                                                 []\n",
              "5  [1, 814,                     JARED WILSON     ...\n",
              "6  [2, 573,                     NATHAN A SUSTERSI...\n",
              "7  [3, 687,                     FRANCISCO MAYA   ...\n",
              "8  [4, 623,                     PAUL MORROW      ...\n",
              "9  [5, 569,                     DEREK G OSBORNE  ..."
            ]
          },
          "metadata": {
            "tags": []
          },
          "execution_count": 34
        }
      ]
    },
    {
      "cell_type": "code",
      "metadata": {
        "colab": {
          "base_uri": "https://localhost:8080/"
        },
        "id": "Z1iR4pPe2qdV",
        "outputId": "68142a02-5be0-4a45-a842-5d4b75301c86"
      },
      "source": [
        "df1 = df[0].str.split(',', expand=True)\r\n",
        "df1[0] = df1[0].str.strip('[')\r\n",
        "df1.head(10)\r\n",
        "\r\n",
        "col_labels = soup.find_all('th')\r\n",
        "all_header = []\r\n",
        "col_Str = str(col_labels)\r\n",
        "cleantext2 = BeautifulSoup(col_Str, 'lxml').get_text()\r\n",
        "all_header.append(cleantext2)\r\n",
        "print(all_header)"
      ],
      "execution_count": 35,
      "outputs": [
        {
          "output_type": "stream",
          "text": [
            "['[Place, Bib, Name, Gender, City, State, Chip Time, Chip Pace, Gun Time, Team]']\n"
          ],
          "name": "stdout"
        }
      ]
    },
    {
      "cell_type": "code",
      "metadata": {
        "colab": {
          "base_uri": "https://localhost:8080/",
          "height": 343
        },
        "id": "YomoZCpDGqrE",
        "outputId": "12272fbb-f609-4b59-a202-df58e1fec845"
      },
      "source": [
        "df2 = pd.DataFrame(all_header)\r\n",
        "df2.head()\r\n",
        "\r\n",
        "df3 = df2[0].str.split(',', expand=True)\r\n",
        "df3.head()\r\n",
        "\r\n",
        "frames = [df3, df1]\r\n",
        "\r\n",
        "df4 = pd.concat(frames)\r\n",
        "df4.head(10)"
      ],
      "execution_count": 36,
      "outputs": [
        {
          "output_type": "execute_result",
          "data": {
            "text/html": [
              "<div>\n",
              "<style scoped>\n",
              "    .dataframe tbody tr th:only-of-type {\n",
              "        vertical-align: middle;\n",
              "    }\n",
              "\n",
              "    .dataframe tbody tr th {\n",
              "        vertical-align: top;\n",
              "    }\n",
              "\n",
              "    .dataframe thead th {\n",
              "        text-align: right;\n",
              "    }\n",
              "</style>\n",
              "<table border=\"1\" class=\"dataframe\">\n",
              "  <thead>\n",
              "    <tr style=\"text-align: right;\">\n",
              "      <th></th>\n",
              "      <th>0</th>\n",
              "      <th>1</th>\n",
              "      <th>2</th>\n",
              "      <th>3</th>\n",
              "      <th>4</th>\n",
              "      <th>5</th>\n",
              "      <th>6</th>\n",
              "      <th>7</th>\n",
              "      <th>8</th>\n",
              "      <th>9</th>\n",
              "    </tr>\n",
              "  </thead>\n",
              "  <tbody>\n",
              "    <tr>\n",
              "      <th>0</th>\n",
              "      <td>[Place</td>\n",
              "      <td>Bib</td>\n",
              "      <td>Name</td>\n",
              "      <td>Gender</td>\n",
              "      <td>City</td>\n",
              "      <td>State</td>\n",
              "      <td>Chip Time</td>\n",
              "      <td>Chip Pace</td>\n",
              "      <td>Gun Time</td>\n",
              "      <td>Team]</td>\n",
              "    </tr>\n",
              "    <tr>\n",
              "      <th>0</th>\n",
              "      <td>]</td>\n",
              "      <td>None</td>\n",
              "      <td>None</td>\n",
              "      <td>None</td>\n",
              "      <td>None</td>\n",
              "      <td>None</td>\n",
              "      <td>None</td>\n",
              "      <td>None</td>\n",
              "      <td>None</td>\n",
              "      <td>None</td>\n",
              "    </tr>\n",
              "    <tr>\n",
              "      <th>1</th>\n",
              "      <td>Finishers:</td>\n",
              "      <td>577]</td>\n",
              "      <td>None</td>\n",
              "      <td>None</td>\n",
              "      <td>None</td>\n",
              "      <td>None</td>\n",
              "      <td>None</td>\n",
              "      <td>None</td>\n",
              "      <td>None</td>\n",
              "      <td>None</td>\n",
              "    </tr>\n",
              "    <tr>\n",
              "      <th>2</th>\n",
              "      <td>Male:</td>\n",
              "      <td>414]</td>\n",
              "      <td>None</td>\n",
              "      <td>None</td>\n",
              "      <td>None</td>\n",
              "      <td>None</td>\n",
              "      <td>None</td>\n",
              "      <td>None</td>\n",
              "      <td>None</td>\n",
              "      <td>None</td>\n",
              "    </tr>\n",
              "    <tr>\n",
              "      <th>3</th>\n",
              "      <td>Female:</td>\n",
              "      <td>163]</td>\n",
              "      <td>None</td>\n",
              "      <td>None</td>\n",
              "      <td>None</td>\n",
              "      <td>None</td>\n",
              "      <td>None</td>\n",
              "      <td>None</td>\n",
              "      <td>None</td>\n",
              "      <td>None</td>\n",
              "    </tr>\n",
              "    <tr>\n",
              "      <th>4</th>\n",
              "      <td>]</td>\n",
              "      <td>None</td>\n",
              "      <td>None</td>\n",
              "      <td>None</td>\n",
              "      <td>None</td>\n",
              "      <td>None</td>\n",
              "      <td>None</td>\n",
              "      <td>None</td>\n",
              "      <td>None</td>\n",
              "      <td>None</td>\n",
              "    </tr>\n",
              "    <tr>\n",
              "      <th>5</th>\n",
              "      <td>1</td>\n",
              "      <td>814</td>\n",
              "      <td>JARED WILSON</td>\n",
              "      <td>M</td>\n",
              "      <td>TIGARD</td>\n",
              "      <td>OR</td>\n",
              "      <td>36:21</td>\n",
              "      <td>5:51</td>\n",
              "      <td>36:24</td>\n",
              "      <td>]</td>\n",
              "    </tr>\n",
              "    <tr>\n",
              "      <th>6</th>\n",
              "      <td>2</td>\n",
              "      <td>573</td>\n",
              "      <td>NATHAN A SUSTERSIC       ...</td>\n",
              "      <td>M</td>\n",
              "      <td>PORTLAND</td>\n",
              "      <td>OR</td>\n",
              "      <td>36:42</td>\n",
              "      <td>5:55</td>\n",
              "      <td>36:45</td>\n",
              "      <td>INTEL TEAM F     ...</td>\n",
              "    </tr>\n",
              "    <tr>\n",
              "      <th>7</th>\n",
              "      <td>3</td>\n",
              "      <td>687</td>\n",
              "      <td>FRANCISCO MAYA           ...</td>\n",
              "      <td>M</td>\n",
              "      <td>PORTLAND</td>\n",
              "      <td>OR</td>\n",
              "      <td>37:44</td>\n",
              "      <td>6:05</td>\n",
              "      <td>37:48</td>\n",
              "      <td>]</td>\n",
              "    </tr>\n",
              "    <tr>\n",
              "      <th>8</th>\n",
              "      <td>4</td>\n",
              "      <td>623</td>\n",
              "      <td>PAUL MORROW</td>\n",
              "      <td>M</td>\n",
              "      <td>BEAVERTON</td>\n",
              "      <td>OR</td>\n",
              "      <td>38:34</td>\n",
              "      <td>6:13</td>\n",
              "      <td>38:37</td>\n",
              "      <td>]</td>\n",
              "    </tr>\n",
              "  </tbody>\n",
              "</table>\n",
              "</div>"
            ],
            "text/plain": [
              "            0  ...                                                  9\n",
              "0      [Place  ...                                              Team]\n",
              "0           ]  ...                                               None\n",
              "1  Finishers:  ...                                               None\n",
              "2       Male:  ...                                               None\n",
              "3     Female:  ...                                               None\n",
              "4           ]  ...                                               None\n",
              "5           1  ...                                                  ]\n",
              "6           2  ...                               INTEL TEAM F     ...\n",
              "7           3  ...                                                  ]\n",
              "8           4  ...                                                  ]\n",
              "\n",
              "[10 rows x 10 columns]"
            ]
          },
          "metadata": {
            "tags": []
          },
          "execution_count": 36
        }
      ]
    },
    {
      "cell_type": "code",
      "metadata": {
        "colab": {
          "base_uri": "https://localhost:8080/"
        },
        "id": "Y9-cs15DRgc1",
        "outputId": "2b0d49a3-7414-4af5-f971-fe19b1010041"
      },
      "source": [
        "df5 = df4.rename(columns=df4.iloc[0])\r\n",
        "df5.head()\r\n",
        "\r\n",
        "df5.info()\r\n",
        "df5.shape"
      ],
      "execution_count": 37,
      "outputs": [
        {
          "output_type": "stream",
          "text": [
            "<class 'pandas.core.frame.DataFrame'>\n",
            "Int64Index: 583 entries, 0 to 581\n",
            "Data columns (total 10 columns):\n",
            " #   Column      Non-Null Count  Dtype \n",
            "---  ------      --------------  ----- \n",
            " 0   [Place      583 non-null    object\n",
            " 1    Bib        581 non-null    object\n",
            " 2    Name       578 non-null    object\n",
            " 3    Gender     578 non-null    object\n",
            " 4    City       578 non-null    object\n",
            " 5    State      578 non-null    object\n",
            " 6    Chip Time  578 non-null    object\n",
            " 7    Chip Pace  578 non-null    object\n",
            " 8    Gun Time   578 non-null    object\n",
            " 9    Team]      578 non-null    object\n",
            "dtypes: object(10)\n",
            "memory usage: 50.1+ KB\n"
          ],
          "name": "stdout"
        },
        {
          "output_type": "execute_result",
          "data": {
            "text/plain": [
              "(583, 10)"
            ]
          },
          "metadata": {
            "tags": []
          },
          "execution_count": 37
        }
      ]
    },
    {
      "cell_type": "code",
      "metadata": {
        "colab": {
          "base_uri": "https://localhost:8080/",
          "height": 195
        },
        "id": "KJO03UyMTGD5",
        "outputId": "c5ca58bd-0a26-4417-d06b-80192d85cad8"
      },
      "source": [
        "df6 = df5.dropna(axis=0, how='any')\r\n",
        "df7 = df6.drop(df6.index[0])\r\n",
        "df7.head()"
      ],
      "execution_count": 38,
      "outputs": [
        {
          "output_type": "execute_result",
          "data": {
            "text/html": [
              "<div>\n",
              "<style scoped>\n",
              "    .dataframe tbody tr th:only-of-type {\n",
              "        vertical-align: middle;\n",
              "    }\n",
              "\n",
              "    .dataframe tbody tr th {\n",
              "        vertical-align: top;\n",
              "    }\n",
              "\n",
              "    .dataframe thead th {\n",
              "        text-align: right;\n",
              "    }\n",
              "</style>\n",
              "<table border=\"1\" class=\"dataframe\">\n",
              "  <thead>\n",
              "    <tr style=\"text-align: right;\">\n",
              "      <th></th>\n",
              "      <th>[Place</th>\n",
              "      <th>Bib</th>\n",
              "      <th>Name</th>\n",
              "      <th>Gender</th>\n",
              "      <th>City</th>\n",
              "      <th>State</th>\n",
              "      <th>Chip Time</th>\n",
              "      <th>Chip Pace</th>\n",
              "      <th>Gun Time</th>\n",
              "      <th>Team]</th>\n",
              "    </tr>\n",
              "  </thead>\n",
              "  <tbody>\n",
              "    <tr>\n",
              "      <th>5</th>\n",
              "      <td>1</td>\n",
              "      <td>814</td>\n",
              "      <td>JARED WILSON</td>\n",
              "      <td>M</td>\n",
              "      <td>TIGARD</td>\n",
              "      <td>OR</td>\n",
              "      <td>36:21</td>\n",
              "      <td>5:51</td>\n",
              "      <td>36:24</td>\n",
              "      <td>]</td>\n",
              "    </tr>\n",
              "    <tr>\n",
              "      <th>6</th>\n",
              "      <td>2</td>\n",
              "      <td>573</td>\n",
              "      <td>NATHAN A SUSTERSIC       ...</td>\n",
              "      <td>M</td>\n",
              "      <td>PORTLAND</td>\n",
              "      <td>OR</td>\n",
              "      <td>36:42</td>\n",
              "      <td>5:55</td>\n",
              "      <td>36:45</td>\n",
              "      <td>INTEL TEAM F     ...</td>\n",
              "    </tr>\n",
              "    <tr>\n",
              "      <th>7</th>\n",
              "      <td>3</td>\n",
              "      <td>687</td>\n",
              "      <td>FRANCISCO MAYA           ...</td>\n",
              "      <td>M</td>\n",
              "      <td>PORTLAND</td>\n",
              "      <td>OR</td>\n",
              "      <td>37:44</td>\n",
              "      <td>6:05</td>\n",
              "      <td>37:48</td>\n",
              "      <td>]</td>\n",
              "    </tr>\n",
              "    <tr>\n",
              "      <th>8</th>\n",
              "      <td>4</td>\n",
              "      <td>623</td>\n",
              "      <td>PAUL MORROW</td>\n",
              "      <td>M</td>\n",
              "      <td>BEAVERTON</td>\n",
              "      <td>OR</td>\n",
              "      <td>38:34</td>\n",
              "      <td>6:13</td>\n",
              "      <td>38:37</td>\n",
              "      <td>]</td>\n",
              "    </tr>\n",
              "    <tr>\n",
              "      <th>9</th>\n",
              "      <td>5</td>\n",
              "      <td>569</td>\n",
              "      <td>DEREK G OSBORNE          ...</td>\n",
              "      <td>M</td>\n",
              "      <td>HILLSBORO</td>\n",
              "      <td>OR</td>\n",
              "      <td>39:21</td>\n",
              "      <td>6:20</td>\n",
              "      <td>39:24</td>\n",
              "      <td>INTEL TEAM F     ...</td>\n",
              "    </tr>\n",
              "  </tbody>\n",
              "</table>\n",
              "</div>"
            ],
            "text/plain": [
              "  [Place   Bib  ...  Gun Time                                              Team]\n",
              "5      1   814  ...     36:24                                                  ]\n",
              "6      2   573  ...     36:45                               INTEL TEAM F     ...\n",
              "7      3   687  ...     37:48                                                  ]\n",
              "8      4   623  ...     38:37                                                  ]\n",
              "9      5   569  ...     39:24                               INTEL TEAM F     ...\n",
              "\n",
              "[5 rows x 10 columns]"
            ]
          },
          "metadata": {
            "tags": []
          },
          "execution_count": 38
        }
      ]
    },
    {
      "cell_type": "code",
      "metadata": {
        "colab": {
          "base_uri": "https://localhost:8080/",
          "height": 195
        },
        "id": "5ZpTYr4BrA2J",
        "outputId": "a7669be0-43d2-4c3a-9454-79099426ffcb"
      },
      "source": [
        "df7.rename(columns={'[Place': 'Place'}, inplace=True)\r\n",
        "df7.rename(columns={' Team]': 'Team'}, inplace=True)\r\n",
        "df7.head()\r\n",
        "\r\n",
        "df7['Team'] = df7['Team'].str.strip(']')\r\n",
        "df7.head()"
      ],
      "execution_count": 39,
      "outputs": [
        {
          "output_type": "execute_result",
          "data": {
            "text/html": [
              "<div>\n",
              "<style scoped>\n",
              "    .dataframe tbody tr th:only-of-type {\n",
              "        vertical-align: middle;\n",
              "    }\n",
              "\n",
              "    .dataframe tbody tr th {\n",
              "        vertical-align: top;\n",
              "    }\n",
              "\n",
              "    .dataframe thead th {\n",
              "        text-align: right;\n",
              "    }\n",
              "</style>\n",
              "<table border=\"1\" class=\"dataframe\">\n",
              "  <thead>\n",
              "    <tr style=\"text-align: right;\">\n",
              "      <th></th>\n",
              "      <th>Place</th>\n",
              "      <th>Bib</th>\n",
              "      <th>Name</th>\n",
              "      <th>Gender</th>\n",
              "      <th>City</th>\n",
              "      <th>State</th>\n",
              "      <th>Chip Time</th>\n",
              "      <th>Chip Pace</th>\n",
              "      <th>Gun Time</th>\n",
              "      <th>Team</th>\n",
              "    </tr>\n",
              "  </thead>\n",
              "  <tbody>\n",
              "    <tr>\n",
              "      <th>5</th>\n",
              "      <td>1</td>\n",
              "      <td>814</td>\n",
              "      <td>JARED WILSON</td>\n",
              "      <td>M</td>\n",
              "      <td>TIGARD</td>\n",
              "      <td>OR</td>\n",
              "      <td>36:21</td>\n",
              "      <td>5:51</td>\n",
              "      <td>36:24</td>\n",
              "      <td></td>\n",
              "    </tr>\n",
              "    <tr>\n",
              "      <th>6</th>\n",
              "      <td>2</td>\n",
              "      <td>573</td>\n",
              "      <td>NATHAN A SUSTERSIC       ...</td>\n",
              "      <td>M</td>\n",
              "      <td>PORTLAND</td>\n",
              "      <td>OR</td>\n",
              "      <td>36:42</td>\n",
              "      <td>5:55</td>\n",
              "      <td>36:45</td>\n",
              "      <td>INTEL TEAM F     ...</td>\n",
              "    </tr>\n",
              "    <tr>\n",
              "      <th>7</th>\n",
              "      <td>3</td>\n",
              "      <td>687</td>\n",
              "      <td>FRANCISCO MAYA           ...</td>\n",
              "      <td>M</td>\n",
              "      <td>PORTLAND</td>\n",
              "      <td>OR</td>\n",
              "      <td>37:44</td>\n",
              "      <td>6:05</td>\n",
              "      <td>37:48</td>\n",
              "      <td></td>\n",
              "    </tr>\n",
              "    <tr>\n",
              "      <th>8</th>\n",
              "      <td>4</td>\n",
              "      <td>623</td>\n",
              "      <td>PAUL MORROW</td>\n",
              "      <td>M</td>\n",
              "      <td>BEAVERTON</td>\n",
              "      <td>OR</td>\n",
              "      <td>38:34</td>\n",
              "      <td>6:13</td>\n",
              "      <td>38:37</td>\n",
              "      <td></td>\n",
              "    </tr>\n",
              "    <tr>\n",
              "      <th>9</th>\n",
              "      <td>5</td>\n",
              "      <td>569</td>\n",
              "      <td>DEREK G OSBORNE          ...</td>\n",
              "      <td>M</td>\n",
              "      <td>HILLSBORO</td>\n",
              "      <td>OR</td>\n",
              "      <td>39:21</td>\n",
              "      <td>6:20</td>\n",
              "      <td>39:24</td>\n",
              "      <td>INTEL TEAM F     ...</td>\n",
              "    </tr>\n",
              "  </tbody>\n",
              "</table>\n",
              "</div>"
            ],
            "text/plain": [
              "  Place   Bib  ...  Gun Time                                               Team\n",
              "5     1   814  ...     36:24                                                   \n",
              "6     2   573  ...     36:45                               INTEL TEAM F     ...\n",
              "7     3   687  ...     37:48                                                   \n",
              "8     4   623  ...     38:37                                                   \n",
              "9     5   569  ...     39:24                               INTEL TEAM F     ...\n",
              "\n",
              "[5 rows x 10 columns]"
            ]
          },
          "metadata": {
            "tags": []
          },
          "execution_count": 39
        }
      ]
    },
    {
      "cell_type": "code",
      "metadata": {
        "colab": {
          "base_uri": "https://localhost:8080/",
          "height": 232
        },
        "id": "la-wRv_uuYH4",
        "outputId": "191e3251-0652-4a2c-d1c7-6c6a9dc240f8"
      },
      "source": [
        "time_list = df7[' Chip Time'].to_list()\r\n",
        "\r\n",
        "time_mins = []\r\n",
        "\r\n",
        "for i in time_list:\r\n",
        "  vals = i.split(':')\r\n",
        "  if (len(vals)) == 2:\r\n",
        "    m, s = i.split(':')\r\n",
        "    math = (int(m) * 60 + int(s)) / 60\r\n",
        "    time_mins.append(math)\r\n",
        "  else:\r\n",
        "    h, m, s = i.split(':')\r\n",
        "    math = (int(h) * 3600 + int(m) * 60 + int(s)) / 60\r\n",
        "    time_mins.append(math)\r\n",
        "\r\n",
        "print(time_mins)\r\n",
        "\r\n",
        "df7['Runner_mins'] = time_mins\r\n",
        "df7.head()"
      ],
      "execution_count": 41,
      "outputs": [
        {
          "output_type": "stream",
          "text": [
            "[36.35, 36.7, 37.733333333333334, 38.56666666666667, 39.35, 39.81666666666667, 40.06666666666667, 40.083333333333336, 40.28333333333333, 40.35, 40.46666666666667, 40.6, 40.71666666666667, 41.016666666666666, 41.31666666666667, 41.71666666666667, 41.983333333333334, 42.38333333333333, 42.483333333333334, 42.583333333333336, 42.6, 42.61666666666667, 42.93333333333333, 43.43333333333333, 43.45, 43.666666666666664, 43.7, 43.71666666666667, 43.766666666666666, 43.766666666666666, 43.78333333333333, 43.78333333333333, 44.06666666666667, 44.083333333333336, 44.1, 44.11666666666667, 44.38333333333333, 44.63333333333333, 44.68333333333333, 44.7, 44.8, 45.05, 45.083333333333336, 45.166666666666664, 45.18333333333333, 45.18333333333333, 45.21666666666667, 45.233333333333334, 45.25, 45.28333333333333, 45.45, 45.46666666666667, 45.483333333333334, 45.6, 45.6, 45.666666666666664, 45.666666666666664, 45.81666666666667, 45.916666666666664, 46.03333333333333, 46.21666666666667, 46.333333333333336, 46.38333333333333, 46.43333333333333, 46.55, 46.583333333333336, 46.68333333333333, 46.7, 46.75, 46.766666666666666, 46.78333333333333, 46.81666666666667, 46.81666666666667, 46.86666666666667, 46.916666666666664, 46.93333333333333, 47.0, 47.03333333333333, 47.083333333333336, 47.083333333333336, 47.13333333333333, 47.15, 47.45, 47.483333333333334, 47.516666666666666, 47.583333333333336, 47.7, 47.75, 47.81666666666667, 47.833333333333336, 47.916666666666664, 47.93333333333333, 47.93333333333333, 47.96666666666667, 47.983333333333334, 48.15, 48.21666666666667, 48.3, 48.3, 48.333333333333336, 48.35, 48.483333333333334, 48.5, 48.61666666666667, 48.63333333333333, 48.65, 48.666666666666664, 48.7, 48.71666666666667, 48.733333333333334, 48.81666666666667, 48.93333333333333, 49.05, 49.15, 49.2, 49.3, 49.38333333333333, 49.43333333333333, 49.5, 49.53333333333333, 49.583333333333336, 49.7, 49.733333333333334, 49.733333333333334, 49.85, 49.9, 49.96666666666667, 50.11666666666667, 50.2, 50.25, 50.3, 50.31666666666667, 50.36666666666667, 50.4, 50.43333333333333, 50.483333333333334, 50.6, 50.63333333333333, 50.65, 50.666666666666664, 50.68333333333333, 50.71666666666667, 50.766666666666666, 50.85, 51.0, 51.03333333333333, 51.083333333333336, 51.1, 51.13333333333333, 51.13333333333333, 51.166666666666664, 51.2, 51.3, 51.333333333333336, 51.36666666666667, 51.4, 51.56666666666667, 51.583333333333336, 51.63333333333333, 51.68333333333333, 51.71666666666667, 51.81666666666667, 51.86666666666667, 51.9, 52.25, 52.28333333333333, 52.416666666666664, 52.43333333333333, 52.56666666666667, 52.56666666666667, 52.583333333333336, 52.583333333333336, 52.6, 52.63333333333333, 52.63333333333333, 52.68333333333333, 52.71666666666667, 52.78333333333333, 52.8, 52.833333333333336, 52.916666666666664, 52.916666666666664, 52.96666666666667, 53.03333333333333, 53.083333333333336, 53.1, 53.15, 53.2, 53.266666666666666, 53.38333333333333, 53.43333333333333, 53.516666666666666, 53.53333333333333, 53.55, 53.61666666666667, 53.733333333333334, 53.75, 53.81666666666667, 53.88333333333333, 53.93333333333333, 53.96666666666667, 53.983333333333334, 53.983333333333334, 54.083333333333336, 54.15, 54.166666666666664, 54.266666666666666, 54.28333333333333, 54.28333333333333, 54.333333333333336, 54.35, 54.483333333333334, 54.63333333333333, 54.68333333333333, 54.68333333333333, 54.71666666666667, 54.733333333333334, 54.766666666666666, 54.833333333333336, 54.88333333333333, 55.0, 55.0, 55.0, 55.0, 55.0, 55.083333333333336, 55.2, 55.266666666666666, 55.31666666666667, 55.38333333333333, 55.46666666666667, 55.483333333333334, 55.55, 55.7, 55.75, 55.833333333333336, 55.93333333333333, 56.0, 56.1, 56.21666666666667, 56.31666666666667, 56.333333333333336, 56.43333333333333, 56.5, 56.516666666666666, 56.55, 56.63333333333333, 56.8, 56.916666666666664, 56.93333333333333, 56.96666666666667, 56.96666666666667, 57.05, 57.083333333333336, 57.083333333333336, 57.083333333333336, 57.21666666666667, 57.266666666666666, 57.28333333333333, 57.516666666666666, 57.516666666666666, 57.55, 57.55, 57.6, 57.63333333333333, 57.7, 57.71666666666667, 57.75, 57.85, 58.016666666666666, 58.03333333333333, 58.21666666666667, 58.25, 58.36666666666667, 58.46666666666667, 58.46666666666667, 58.5, 58.55, 58.583333333333336, 58.65, 58.666666666666664, 58.75, 58.78333333333333, 58.85, 58.85, 58.96666666666667, 58.983333333333334, 58.983333333333334, 59.016666666666666, 59.03333333333333, 59.18333333333333, 59.31666666666667, 59.45, 59.45, 59.483333333333334, 59.483333333333334, 59.5, 59.516666666666666, 59.53333333333333, 59.666666666666664, 59.68333333333333, 59.71666666666667, 59.78333333333333, 59.86666666666667, 59.88333333333333, 59.916666666666664, 60.016666666666666, 60.05, 60.2, 60.2, 60.21666666666667, 60.21666666666667, 60.3, 60.3, 60.3, 60.31666666666667, 60.333333333333336, 60.38333333333333, 60.4, 60.65, 60.68333333333333, 60.7, 60.78333333333333, 60.81666666666667, 60.93333333333333, 60.983333333333334, 61.016666666666666, 61.166666666666664, 61.3, 61.31666666666667, 61.35, 61.36666666666667, 61.36666666666667, 61.45, 61.5, 61.5, 61.53333333333333, 61.583333333333336, 61.8, 61.8, 61.8, 61.81666666666667, 62.06666666666667, 62.083333333333336, 62.083333333333336, 62.1, 62.166666666666664, 62.3, 62.35, 62.36666666666667, 62.416666666666664, 62.483333333333334, 62.5, 62.6, 62.65, 62.68333333333333, 62.71666666666667, 62.733333333333334, 62.78333333333333, 62.8, 62.8, 62.8, 63.03333333333333, 63.05, 63.13333333333333, 63.28333333333333, 63.31666666666667, 63.56666666666667, 63.56666666666667, 63.6, 63.733333333333334, 63.733333333333334, 63.81666666666667, 63.85, 63.85, 63.88333333333333, 64.11666666666666, 64.15, 64.15, 64.16666666666667, 64.18333333333334, 64.26666666666667, 64.31666666666666, 64.31666666666666, 64.36666666666666, 64.41666666666667, 64.46666666666667, 64.5, 64.55, 64.58333333333333, 64.61666666666666, 64.66666666666667, 64.73333333333333, 64.8, 64.85, 64.91666666666667, 64.93333333333334, 64.95, 64.98333333333333, 65.2, 65.21666666666667, 65.23333333333333, 65.26666666666667, 65.26666666666667, 65.26666666666667, 65.31666666666666, 65.35, 65.45, 65.55, 65.61666666666666, 65.73333333333333, 65.8, 65.88333333333334, 66.06666666666666, 66.23333333333333, 66.31666666666666, 66.46666666666667, 66.53333333333333, 66.63333333333334, 66.68333333333334, 66.71666666666667, 66.75, 66.76666666666667, 66.83333333333333, 66.85, 66.86666666666666, 66.88333333333334, 66.91666666666667, 67.06666666666666, 67.23333333333333, 67.23333333333333, 67.26666666666667, 67.26666666666667, 67.26666666666667, 67.3, 67.3, 67.38333333333334, 67.41666666666667, 67.46666666666667, 67.58333333333333, 67.68333333333334, 67.76666666666667, 67.85, 67.86666666666666, 67.93333333333334, 68.11666666666666, 68.18333333333334, 68.2, 68.26666666666667, 68.28333333333333, 68.3, 68.36666666666666, 68.55, 68.7, 68.78333333333333, 68.86666666666666, 68.9, 68.93333333333334, 68.95, 68.96666666666667, 69.06666666666666, 69.1, 69.1, 69.23333333333333, 69.25, 69.26666666666667, 69.3, 69.3, 69.31666666666666, 69.33333333333333, 69.45, 69.48333333333333, 69.51666666666667, 69.81666666666666, 69.98333333333333, 70.01666666666667, 70.06666666666666, 70.1, 70.21666666666667, 70.61666666666666, 70.83333333333333, 70.85, 70.91666666666667, 71.0, 71.01666666666667, 71.11666666666666, 71.15, 71.16666666666667, 71.16666666666667, 71.2, 71.35, 71.51666666666667, 71.65, 71.66666666666667, 71.9, 71.93333333333334, 71.98333333333333, 72.03333333333333, 72.13333333333334, 72.15, 72.23333333333333, 72.31666666666666, 72.33333333333333, 72.53333333333333, 72.7, 72.71666666666667, 72.88333333333334, 72.91666666666667, 73.03333333333333, 73.13333333333334, 73.38333333333334, 73.41666666666667, 73.5, 73.73333333333333, 73.81666666666666, 73.81666666666666, 74.01666666666667, 74.16666666666667, 74.21666666666667, 74.3, 74.31666666666666, 74.36666666666666, 74.53333333333333, 74.66666666666667, 74.9, 75.21666666666667, 75.56666666666666, 75.63333333333334, 75.8, 75.85, 75.96666666666667, 76.0, 76.31666666666666, 76.41666666666667, 76.76666666666667, 76.8, 76.86666666666666, 77.1, 77.23333333333333, 78.13333333333334, 78.15, 78.93333333333334, 80.76666666666667, 83.13333333333334, 83.15, 83.16666666666667, 83.2, 83.5, 83.5, 83.75, 83.9, 84.15, 84.31666666666666, 85.18333333333334, 85.81666666666666, 85.81666666666666, 86.36666666666666, 87.13333333333334, 88.31666666666666, 88.55, 89.06666666666666, 89.06666666666666, 91.33333333333333, 92.16666666666667, 92.3, 92.33333333333333, 92.46666666666667, 92.5, 93.83333333333333, 94.75, 94.8, 97.16666666666667, 98.28333333333333, 98.51666666666667, 98.53333333333333, 100.78333333333333, 101.3]\n"
          ],
          "name": "stdout"
        },
        {
          "output_type": "execute_result",
          "data": {
            "text/html": [
              "<div>\n",
              "<style scoped>\n",
              "    .dataframe tbody tr th:only-of-type {\n",
              "        vertical-align: middle;\n",
              "    }\n",
              "\n",
              "    .dataframe tbody tr th {\n",
              "        vertical-align: top;\n",
              "    }\n",
              "\n",
              "    .dataframe thead th {\n",
              "        text-align: right;\n",
              "    }\n",
              "</style>\n",
              "<table border=\"1\" class=\"dataframe\">\n",
              "  <thead>\n",
              "    <tr style=\"text-align: right;\">\n",
              "      <th></th>\n",
              "      <th>Place</th>\n",
              "      <th>Bib</th>\n",
              "      <th>Name</th>\n",
              "      <th>Gender</th>\n",
              "      <th>City</th>\n",
              "      <th>State</th>\n",
              "      <th>Chip Time</th>\n",
              "      <th>Chip Pace</th>\n",
              "      <th>Gun Time</th>\n",
              "      <th>Team</th>\n",
              "      <th>Runner_mins</th>\n",
              "    </tr>\n",
              "  </thead>\n",
              "  <tbody>\n",
              "    <tr>\n",
              "      <th>5</th>\n",
              "      <td>1</td>\n",
              "      <td>814</td>\n",
              "      <td>JARED WILSON</td>\n",
              "      <td>M</td>\n",
              "      <td>TIGARD</td>\n",
              "      <td>OR</td>\n",
              "      <td>36:21</td>\n",
              "      <td>5:51</td>\n",
              "      <td>36:24</td>\n",
              "      <td></td>\n",
              "      <td>36.350000</td>\n",
              "    </tr>\n",
              "    <tr>\n",
              "      <th>6</th>\n",
              "      <td>2</td>\n",
              "      <td>573</td>\n",
              "      <td>NATHAN A SUSTERSIC       ...</td>\n",
              "      <td>M</td>\n",
              "      <td>PORTLAND</td>\n",
              "      <td>OR</td>\n",
              "      <td>36:42</td>\n",
              "      <td>5:55</td>\n",
              "      <td>36:45</td>\n",
              "      <td>INTEL TEAM F     ...</td>\n",
              "      <td>36.700000</td>\n",
              "    </tr>\n",
              "    <tr>\n",
              "      <th>7</th>\n",
              "      <td>3</td>\n",
              "      <td>687</td>\n",
              "      <td>FRANCISCO MAYA           ...</td>\n",
              "      <td>M</td>\n",
              "      <td>PORTLAND</td>\n",
              "      <td>OR</td>\n",
              "      <td>37:44</td>\n",
              "      <td>6:05</td>\n",
              "      <td>37:48</td>\n",
              "      <td></td>\n",
              "      <td>37.733333</td>\n",
              "    </tr>\n",
              "    <tr>\n",
              "      <th>8</th>\n",
              "      <td>4</td>\n",
              "      <td>623</td>\n",
              "      <td>PAUL MORROW</td>\n",
              "      <td>M</td>\n",
              "      <td>BEAVERTON</td>\n",
              "      <td>OR</td>\n",
              "      <td>38:34</td>\n",
              "      <td>6:13</td>\n",
              "      <td>38:37</td>\n",
              "      <td></td>\n",
              "      <td>38.566667</td>\n",
              "    </tr>\n",
              "    <tr>\n",
              "      <th>9</th>\n",
              "      <td>5</td>\n",
              "      <td>569</td>\n",
              "      <td>DEREK G OSBORNE          ...</td>\n",
              "      <td>M</td>\n",
              "      <td>HILLSBORO</td>\n",
              "      <td>OR</td>\n",
              "      <td>39:21</td>\n",
              "      <td>6:20</td>\n",
              "      <td>39:24</td>\n",
              "      <td>INTEL TEAM F     ...</td>\n",
              "      <td>39.350000</td>\n",
              "    </tr>\n",
              "  </tbody>\n",
              "</table>\n",
              "</div>"
            ],
            "text/plain": [
              "  Place   Bib  ...                                               Team Runner_mins\n",
              "5     1   814  ...                                                      36.350000\n",
              "6     2   573  ...                               INTEL TEAM F     ...   36.700000\n",
              "7     3   687  ...                                                      37.733333\n",
              "8     4   623  ...                                                      38.566667\n",
              "9     5   569  ...                               INTEL TEAM F     ...   39.350000\n",
              "\n",
              "[5 rows x 11 columns]"
            ]
          },
          "metadata": {
            "tags": []
          },
          "execution_count": 41
        }
      ]
    },
    {
      "cell_type": "code",
      "metadata": {
        "colab": {
          "base_uri": "https://localhost:8080/",
          "height": 284
        },
        "id": "XSdec4TL0H41",
        "outputId": "d8e08f2e-009a-402b-c249-2034bae49c67"
      },
      "source": [
        "time_list = df7[' Chip Time'].to_list()\r\n",
        "\r\n",
        "time_mins = []\r\n",
        "\r\n",
        "for i in time_list:\r\n",
        "  vals = i.split(':')\r\n",
        "  if (len(vals)) == 2:\r\n",
        "    m, s = i.split(':')\r\n",
        "    math = ((int(m) * 60) + int(s)) / 60\r\n",
        "    time_mins.append(math)\r\n",
        "  else:\r\n",
        "    h, m, s = i.split(':')\r\n",
        "    math = ((int(h) * 3600) + (int(m) * 60) + int(s)) / 60\r\n",
        "    time_mins.append(math)\r\n",
        "\r\n",
        "#print(time_mins)\r\n",
        "\r\n",
        "df7['Runner_mins'] = time_mins\r\n",
        "df7.head()\r\n",
        "\r\n",
        "df7.describe(include=[np.number])"
      ],
      "execution_count": 45,
      "outputs": [
        {
          "output_type": "execute_result",
          "data": {
            "text/html": [
              "<div>\n",
              "<style scoped>\n",
              "    .dataframe tbody tr th:only-of-type {\n",
              "        vertical-align: middle;\n",
              "    }\n",
              "\n",
              "    .dataframe tbody tr th {\n",
              "        vertical-align: top;\n",
              "    }\n",
              "\n",
              "    .dataframe thead th {\n",
              "        text-align: right;\n",
              "    }\n",
              "</style>\n",
              "<table border=\"1\" class=\"dataframe\">\n",
              "  <thead>\n",
              "    <tr style=\"text-align: right;\">\n",
              "      <th></th>\n",
              "      <th>Runner_mins</th>\n",
              "    </tr>\n",
              "  </thead>\n",
              "  <tbody>\n",
              "    <tr>\n",
              "      <th>count</th>\n",
              "      <td>577.000000</td>\n",
              "    </tr>\n",
              "    <tr>\n",
              "      <th>mean</th>\n",
              "      <td>60.035933</td>\n",
              "    </tr>\n",
              "    <tr>\n",
              "      <th>std</th>\n",
              "      <td>11.970623</td>\n",
              "    </tr>\n",
              "    <tr>\n",
              "      <th>min</th>\n",
              "      <td>36.350000</td>\n",
              "    </tr>\n",
              "    <tr>\n",
              "      <th>25%</th>\n",
              "      <td>51.000000</td>\n",
              "    </tr>\n",
              "    <tr>\n",
              "      <th>50%</th>\n",
              "      <td>59.016667</td>\n",
              "    </tr>\n",
              "    <tr>\n",
              "      <th>75%</th>\n",
              "      <td>67.266667</td>\n",
              "    </tr>\n",
              "    <tr>\n",
              "      <th>max</th>\n",
              "      <td>101.300000</td>\n",
              "    </tr>\n",
              "  </tbody>\n",
              "</table>\n",
              "</div>"
            ],
            "text/plain": [
              "       Runner_mins\n",
              "count   577.000000\n",
              "mean     60.035933\n",
              "std      11.970623\n",
              "min      36.350000\n",
              "25%      51.000000\n",
              "50%      59.016667\n",
              "75%      67.266667\n",
              "max     101.300000"
            ]
          },
          "metadata": {
            "tags": []
          },
          "execution_count": 45
        }
      ]
    },
    {
      "cell_type": "code",
      "metadata": {
        "colab": {
          "base_uri": "https://localhost:8080/",
          "height": 337
        },
        "id": "h6MN6GyA2Krn",
        "outputId": "bcb4a0ba-b8a6-44e9-ffb5-cd9e5f63ed64"
      },
      "source": [
        "from pylab import rcParams\r\n",
        "\r\n",
        "rcParams['figure.figsize'] = 15, 5\r\n",
        "\r\n",
        "df7.boxplot(column = 'Runner_mins')\r\n",
        "plt.grid(True, axis='y')\r\n",
        "plt.ylabel('Chip Time')\r\n",
        "plt.xticks([1], ['Runners'])\r\n"
      ],
      "execution_count": 44,
      "outputs": [
        {
          "output_type": "execute_result",
          "data": {
            "text/plain": [
              "([<matplotlib.axis.XTick at 0x7f41067be588>], [Text(0, 0, 'Runners')])"
            ]
          },
          "metadata": {
            "tags": []
          },
          "execution_count": 44
        },
        {
          "output_type": "display_data",
          "data": {
            "image/png": "[encoded data removed]",
            "text/plain": [
              "<Figure size 1080x360 with 1 Axes>"
            ]
          },
          "metadata": {
            "tags": [],
            "needs_background": "light"
          }
        }
      ]
    },
    {
      "cell_type": "code",
      "metadata": {
        "colab": {
          "base_uri": "https://localhost:8080/",
          "height": 389
        },
        "id": "ZDBNnuNQ5aXF",
        "outputId": "c28b3dfa-a036-47e7-b46e-050d1eb175c9"
      },
      "source": [
        "x = df7['Runner_mins']\r\n",
        "\r\n",
        "ax = sns.distplot(x, hist=True, kde=True, rug=False, color='m', bins=25, hist_kws={'edgecolor':'black'})\r\n",
        "plt.show()"
      ],
      "execution_count": 46,
      "outputs": [
        {
          "output_type": "stream",
          "text": [
            "/usr/local/lib/python3.6/dist-packages/seaborn/distributions.py:2557: FutureWarning: `distplot` is a deprecated function and will be removed in a future version. Please adapt your code to use either `displot` (a figure-level function with similar flexibility) or `histplot` (an axes-level function for histograms).\n",
            "  warnings.warn(msg, FutureWarning)\n"
          ],
          "name": "stderr"
        },
        {
          "output_type": "display_data",
          "data": {
            "image/png": "[encoded data removed]",
            "text/plain": [
              "<Figure size 1080x360 with 1 Axes>"
            ]
          },
          "metadata": {
            "tags": [],
            "needs_background": "light"
          }
        }
      ]
    },
    {
      "cell_type": "code",
      "metadata": {
        "colab": {
          "base_uri": "https://localhost:8080/",
          "height": 439
        },
        "id": "NWpbPIz_8hc3",
        "outputId": "167ead36-1059-4ee5-9d8d-063871d0802f"
      },
      "source": [
        "f_fuko = df7.loc[df7[' Gender'] == ' F']['Runner_mins']\r\n",
        "m_fuko = df7.loc[df7[' Gender'] == ' M']['Runner_mins']\r\n",
        "\r\n",
        "sns.distplot(f_fuko, hist=True, kde=True, rug=False, color='m', bins=25, hist_kws={'edgecolor':'black'}, label = 'Female')\r\n",
        "sns.distplot(m_fuko, hist=False, kde=True, rug=False, color='m', bins=25, hist_kws={'edgecolor':'black'}, label = 'Male')\r\n",
        "plt.legend()"
      ],
      "execution_count": 50,
      "outputs": [
        {
          "output_type": "stream",
          "text": [
            "/usr/local/lib/python3.6/dist-packages/seaborn/distributions.py:2557: FutureWarning: `distplot` is a deprecated function and will be removed in a future version. Please adapt your code to use either `displot` (a figure-level function with similar flexibility) or `histplot` (an axes-level function for histograms).\n",
            "  warnings.warn(msg, FutureWarning)\n",
            "/usr/local/lib/python3.6/dist-packages/seaborn/distributions.py:2557: FutureWarning: `distplot` is a deprecated function and will be removed in a future version. Please adapt your code to use either `displot` (a figure-level function with similar flexibility) or `kdeplot` (an axes-level function for kernel density plots).\n",
            "  warnings.warn(msg, FutureWarning)\n"
          ],
          "name": "stderr"
        },
        {
          "output_type": "execute_result",
          "data": {
            "text/plain": [
              "<matplotlib.legend.Legend at 0x7f41068790b8>"
            ]
          },
          "metadata": {
            "tags": []
          },
          "execution_count": 50
        },
        {
          "output_type": "display_data",
          "data": {
            "image/png": "[encoded data removed]",
            "text/plain": [
              "<Figure size 1080x360 with 1 Axes>"
            ]
          },
          "metadata": {
            "tags": [],
            "needs_background": "light"
          }
        }
      ]
    },
    {
      "cell_type": "code",
      "metadata": {
        "colab": {
          "base_uri": "https://localhost:8080/"
        },
        "id": "FXEvMnmv9gXv",
        "outputId": "7b63c9b7-e350-4f42-aa9a-60f85788c822"
      },
      "source": [
        "g_stats = df7.groupby(\" Gender\", as_index=True).describe()\r\n",
        "print(g_stats)"
      ],
      "execution_count": 52,
      "outputs": [
        {
          "output_type": "stream",
          "text": [
            "        Runner_mins                        ...                                  \n",
            "              count       mean        std  ...        50%        75%         max\n",
            " Gender                                    ...                                  \n",
            " F            163.0  66.119223  12.184440  ...  64.616667  72.058333  101.300000\n",
            " M            414.0  57.640821  11.011857  ...  55.791667  64.804167   98.516667\n",
            "\n",
            "[2 rows x 8 columns]\n"
          ],
          "name": "stdout"
        }
      ]
    },
    {
      "cell_type": "code",
      "metadata": {
        "colab": {
          "base_uri": "https://localhost:8080/",
          "height": 418
        },
        "id": "a5Yu0T1W93Ro",
        "outputId": "f1d706cd-8ea6-49f5-8be5-00bc4c8be413"
      },
      "source": [
        "df7.boxplot(column='Runner_mins', by = ' Gender')\r\n",
        "plt.ylabel('Chip Time')\r\n",
        "plt.suptitle(\"\")"
      ],
      "execution_count": 55,
      "outputs": [
        {
          "output_type": "stream",
          "text": [
            "/usr/local/lib/python3.6/dist-packages/numpy/core/_asarray.py:83: VisibleDeprecationWarning: Creating an ndarray from ragged nested sequences (which is a list-or-tuple of lists-or-tuples-or ndarrays with different lengths or shapes) is deprecated. If you meant to do this, you must specify 'dtype=object' when creating the ndarray\n",
            "  return array(a, dtype, copy=False, order=order)\n"
          ],
          "name": "stderr"
        },
        {
          "output_type": "execute_result",
          "data": {
            "text/plain": [
              "Text(0.5, 0.98, '')"
            ]
          },
          "metadata": {
            "tags": []
          },
          "execution_count": 55
        },
        {
          "output_type": "display_data",
          "data": {
            "image/png": "[encoded data removed]",
            "text/plain": [
              "<Figure size 1080x360 with 1 Axes>"
            ]
          },
          "metadata": {
            "tags": [],
            "needs_background": "light"
          }
        }
      ]
    }
  ]
}